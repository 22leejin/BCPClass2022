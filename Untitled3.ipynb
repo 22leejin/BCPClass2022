{
  "nbformat": 4,
  "nbformat_minor": 0,
  "metadata": {
    "colab": {
      "name": "Untitled3.ipynb",
      "provenance": [],
      "collapsed_sections": [],
      "authorship_tag": "ABX9TyMzljlIpBxxFRbbmkX58tRL",
      "include_colab_link": true
    },
    "kernelspec": {
      "name": "python3",
      "display_name": "Python 3"
    },
    "language_info": {
      "name": "python"
    }
  },
  "cells": [
    {
      "cell_type": "markdown",
      "metadata": {
        "id": "view-in-github",
        "colab_type": "text"
      },
      "source": [
        "<a href=\"https://colab.research.google.com/github/22leejin/BCPClass2022/blob/main/Untitled3.ipynb\" target=\"_parent\"><img src=\"https://colab.research.google.com/assets/colab-badge.svg\" alt=\"Open In Colab\"/></a>"
      ]
    },
    {
      "cell_type": "code",
      "execution_count": 1,
      "metadata": {
        "colab": {
          "base_uri": "https://localhost:8080/"
        },
        "id": "iQHSgc-JFLyj",
        "outputId": "f4c88a65-8969-4355-baba-7ea59e70a918"
      },
      "outputs": [
        {
          "output_type": "stream",
          "name": "stdout",
          "text": [
            "<class 'int'>\n",
            "<class 'float'>\n",
            "<class 'int'>\n",
            "<class 'complex'>\n"
          ]
        }
      ],
      "source": [
        "num1 = 13\n",
        "num2 = 3.14\n",
        "num3 =-5\n",
        "num4 = 3+6j\n",
        "print(type(num1))\n",
        "print(type(num2))\n",
        "print(type(num3))\n",
        "print(type(num4))"
      ]
    },
    {
      "cell_type": "code",
      "source": [
        "string = 'python'\n",
        "print(type(string))"
      ],
      "metadata": {
        "colab": {
          "base_uri": "https://localhost:8080/"
        },
        "id": "FnqUsEZ8Ft_4",
        "outputId": "600a6b63-aab4-4581-ac70-7f90272ea405"
      },
      "execution_count": 2,
      "outputs": [
        {
          "output_type": "stream",
          "name": "stdout",
          "text": [
            "<class 'str'>\n"
          ]
        }
      ]
    },
    {
      "cell_type": "code",
      "source": [
        "n=17\n",
        "id(n)\n",
        "n=\"Seventeen\"\n",
        "id(n)"
      ],
      "metadata": {
        "colab": {
          "base_uri": "https://localhost:8080/"
        },
        "id": "76JgGPp3F2m0",
        "outputId": "960ec08d-bf1b-42d5-c9ff-dc904ecf464c"
      },
      "execution_count": 3,
      "outputs": [
        {
          "output_type": "execute_result",
          "data": {
            "text/plain": [
              "140377931193520"
            ]
          },
          "metadata": {},
          "execution_count": 3
        }
      ]
    },
    {
      "cell_type": "code",
      "source": [
        "x=10\n",
        "y=x\n",
        "print(x is y)\n",
        "print(id(x))\n",
        "print(id(y))\n",
        "y=5\n",
        "\n",
        "print(x)\n",
        "print(y)\n",
        "print(id(x))\n",
        "print(id(y))"
      ],
      "metadata": {
        "colab": {
          "base_uri": "https://localhost:8080/"
        },
        "id": "W8kYg7txGBzu",
        "outputId": "aeaa2214-9b03-4b5a-c29c-40897bfd9d50"
      },
      "execution_count": 5,
      "outputs": [
        {
          "output_type": "stream",
          "name": "stdout",
          "text": [
            "True\n",
            "94153620089632\n",
            "94153620089632\n",
            "10\n",
            "5\n",
            "94153620089632\n",
            "94153620089472\n"
          ]
        }
      ]
    },
    {
      "cell_type": "code",
      "source": [
        "x=[2,3,4,1,10,2]\n",
        "y=x\n",
        "print(x is y)\n",
        "print(id(x))\n",
        "print(id(y))\n",
        "\n",
        "y[2]=15\n",
        "\n",
        "print(x)\n",
        "print(y)\n",
        "print(id(x))\n",
        "print(id(y))"
      ],
      "metadata": {
        "colab": {
          "base_uri": "https://localhost:8080/"
        },
        "id": "78G9jOJhGc2l",
        "outputId": "c7f6539a-8c8a-4d75-d453-217c0f8f71b7"
      },
      "execution_count": 6,
      "outputs": [
        {
          "output_type": "stream",
          "name": "stdout",
          "text": [
            "True\n",
            "140377792992992\n",
            "140377792992992\n",
            "[2, 3, 15, 1, 10, 2]\n",
            "[2, 3, 15, 1, 10, 2]\n",
            "140377792992992\n",
            "140377792992992\n"
          ]
        }
      ]
    },
    {
      "cell_type": "code",
      "source": [
        "x=[2,3,4,1,10,2]\n",
        "y=list(x)\n",
        "y[2]=15\n",
        "\n",
        "print(x)\n",
        "print(y)"
      ],
      "metadata": {
        "colab": {
          "base_uri": "https://localhost:8080/"
        },
        "id": "9Qy4xzFrG9mI",
        "outputId": "4e55d33d-d8d2-44f8-a92d-5e7704e6c4f3"
      },
      "execution_count": 7,
      "outputs": [
        {
          "output_type": "stream",
          "name": "stdout",
          "text": [
            "[2, 3, 4, 1, 10, 2]\n",
            "[2, 3, 15, 1, 10, 2]\n"
          ]
        }
      ]
    },
    {
      "cell_type": "code",
      "source": [
        ""
      ],
      "metadata": {
        "id": "SkaPGlYcGRvq"
      },
      "execution_count": null,
      "outputs": []
    }
  ]
}