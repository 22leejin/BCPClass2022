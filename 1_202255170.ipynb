{
  "nbformat": 4,
  "nbformat_minor": 0,
  "metadata": {
    "colab": {
      "name": "1-202255170",
      "provenance": [],
      "collapsed_sections": [],
      "authorship_tag": "ABX9TyNkUXJBkGf2nzst2p4JGQOQ",
      "include_colab_link": true
    },
    "kernelspec": {
      "name": "python3",
      "display_name": "Python 3"
    },
    "language_info": {
      "name": "python"
    }
  },
  "cells": [
    {
      "cell_type": "markdown",
      "metadata": {
        "id": "view-in-github",
        "colab_type": "text"
      },
      "source": [
        "<a href=\"https://colab.research.google.com/github/22leejin/BCPClass2022/blob/main/1_202255170.ipynb\" target=\"_parent\"><img src=\"https://colab.research.google.com/assets/colab-badge.svg\" alt=\"Open In Colab\"/></a>"
      ]
    },
    {
      "cell_type": "code",
      "execution_count": 14,
      "metadata": {
        "colab": { 
          "base_uri": "https://localhost:8080/"
        },
        "id": "ttTGaiPka72O",
        "outputId": "c93564b1-4309-448f-e1c1-491ba8fec8a4"
      },
      "outputs": [
        {
          "output_type": "stream",
          "name": "stdout",
          "text": [
            "섭씨:23.3\n",
            "섭씨 23.3도는 화씨 73.94도이다.\n"
          ]
        }
      ],
      "source": [
        "Celsius = float(input('섭씨:'))\n",
        "Fahrenheit = Celsius*(9/5)+32\n",
        "print(F'섭씨 {Celsius:4.1f}도는 화씨 {Fahrenheit:5.2f}도이다.')"
      ]
    }
  ]
}
 
